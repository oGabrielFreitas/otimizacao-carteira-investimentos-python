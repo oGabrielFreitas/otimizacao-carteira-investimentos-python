{
 "cells": [
  {
   "cell_type": "markdown",
   "metadata": {},
   "source": [
    "# Calculando o Beta de uma ação"
   ]
  },
  {
   "cell_type": "markdown",
   "metadata": {},
   "source": [
    "## Explicação"
   ]
  },
  {
   "cell_type": "markdown",
   "metadata": {},
   "source": [
    "Beta é a relção entre uma ação e o próprio mercado.\n",
    "\n",
    "**Beta:**\n",
    "\n",
    "- Regressão do Retorno da Ação Vs Retorno do Mercado\n",
    "\n",
    "**Regressão Linear:**\n",
    "\n",
    "- Você tentar explicar uma a variação de uma variavel, dada a variação de outra. É uma técnica estatística, que tenta encontrar a relação entre variáveis\n",
    "\n",
    "**Retorno do mercado:**\n",
    "- Normalmente é o índice do mercado. (No Brasil, por exemplo pode ser o IBOVESPA ou o IBX100). O Beta do mercado, por definição é 1.\n",
    "- Para criptomoedas, o Retorno do Mercado normalmente é embasado pelo Bitcoin\n",
    "\n",
    "**Exemplo de interpretação:**\n",
    "\n",
    "- Ação de Beta 2\n",
    "- Mercado subiu 10%\n",
    "- Então a ação sobe 20%\n",
    "\n",
    "O Beta é uma medida de risco. Risco, por definição acadêmica, é volatilidade. É um conceito de Factor Investing.\n",
    "\n",
    "**Cuidado com Relações Espúrias:**\n",
    "- Uma relação espúria é uma correlação aparente entre duas variáveis que não têm uma relação causal real.\n",
    "- Exemplo: Quando chove em Nova York, o Bitcoin sobe 2% (Freakonomics)\n",
    "\n",
    "**Fórmula Regressão Linear:**\n",
    "\n",
    "Y = α + βX + e\n",
    "\n",
    "- Y = Variável Resposta (Ativo)\n",
    "- α = Intecepto constante (valor de Y quando o 𝑋i é zero)\n",
    "- X = Variável Explicativa (Base [BTC/IBOV])\n",
    "- β = Beta. Coeficiente angular de inclinação da reta\n",
    "- e = Erro\n"
   ]
  },
  {
   "cell_type": "markdown",
   "metadata": {},
   "source": [
    "# Código"
   ]
  },
  {
   "cell_type": "code",
   "execution_count": null,
   "metadata": {},
   "outputs": [],
   "source": [
    "import yfinance as yf \n",
    "import statsmodels.api as sm \n",
    "from datetime import timedelta\n",
    "from datetime import datetime\n",
    "import matplotlib.pyplot as plt\n",
    "import seaborn as sns\n",
    "import numpy as np\n",
    "import pandas as pd\n",
    "\n",
    "TICKER_ANALISADO = 'BPAC11.SA' # Banco BTG Pactual\n"
   ]
  },
  {
   "cell_type": "code",
   "execution_count": null,
   "metadata": {},
   "outputs": [],
   "source": [
    "# Lista de tickers das principais empresas do Ibovespa\n",
    "tickers = [\n",
    "    '^BVSP',  # Índice Bovespa\n",
    "    \n",
    "    # Ações brasileiras\n",
    "    'PETR4.SA', 'VALE3.SA', 'ITUB4.SA', 'BBDC4.SA', 'ABEV3.SA',\n",
    "    'B3SA3.SA', 'BBAS3.SA', 'WEGE3.SA', 'BBDC3.SA', 'SUZB3.SA',\n",
    "    'ELET3.SA', 'ELET6.SA', 'GGBR4.SA', 'RAIL3.SA', 'RENT3.SA',\n",
    "    'PRIO3.SA', 'LREN3.SA', 'MGLU3.SA', 'BRFS3.SA', 'BRKM5.SA',\n",
    "    'GOLL4.SA', 'CPLE6.SA', 'CMIG4.SA', 'CSAN3.SA', 'CRFB3.SA',\n",
    "    'BRAP4.SA', 'EGIE3.SA', 'EQTL3.SA', 'EZTC3.SA', 'HAPV3.SA',\n",
    "    'PETZ3.SA', 'VIVT3.SA', 'YDUQ3.SA', 'UGPA3.SA', 'TOTS3.SA',\n",
    "    'CYRE3.SA', 'MRVE3.SA', 'CCRO3.SA', 'ALPA4.SA', 'TIMS3.SA',\n",
    "    'BPAC11.SA',\n",
    "    \n",
    "    # BDRs internacionais\n",
    "    'AAPL34.SA',  # Apple\n",
    "    'MSFT34.SA',  # Microsoft\n",
    "    'NVDC34.SA',  # Nvidia\n",
    "    'AMZO34.SA',  # Amazon\n",
    "    'GOGL34.SA',  # Google (Alphabet)\n",
    "    'M1TA34.SA',  # Meta (Facebook)\n",
    "    'TSLA34.SA',  # Tesla\n",
    "    'NFLX34.SA',  # Netflix\n",
    "    'DISB34.SA',  # Disney\n",
    "    'NIKE34.SA'    # Nike\n",
    "]\n",
    "\n",
    "# Definir intervalo de datas\n",
    "final_date = datetime.now()  # Hoje\n",
    "start_date = final_date - timedelta(days=365 * 3)  # Últimos 3 anos\n",
    "\n",
    "# Baixar dados do Yahoo Finance\n",
    "stock_data = yf.download(tickers, start=start_date, end=final_date)['Close']\n",
    "\n",
    "# Exibir os dados\n",
    "stock_data;"
   ]
  },
  {
   "cell_type": "code",
   "execution_count": null,
   "metadata": {},
   "outputs": [],
   "source": [
    "# Calcula os retornos diários\n",
    "\n",
    "daily_return = stock_data.pct_change().dropna()\n",
    "\n",
    "daily_return"
   ]
  },
  {
   "cell_type": "code",
   "execution_count": null,
   "metadata": {},
   "outputs": [],
   "source": [
    "# Calculamos o Beta usando Ordinary Least Squares\n",
    "\n",
    "# Y = daily_return['WEGE3.SA']\n",
    "Y = daily_return[TICKER_ANALISADO]\n",
    "X = daily_return['^BVSP']\n",
    "X = sm.add_constant(X)\n",
    "\n",
    "model = sm.OLS(Y, X).fit()\n",
    "\n",
    "# Beta\n",
    "print(f'Beta = {model.params.iloc[1]}')\n",
    "print(f'R Quadrado = {model.rsquared}')\n",
    "print('---------------------')\n",
    "print(str(model.summary()))\n"
   ]
  },
  {
   "cell_type": "markdown",
   "metadata": {},
   "source": [
    "### Explicação:\n",
    "\n",
    "**O que é Ordinary Least Squares (OLS)?**\n",
    "\n",
    "**Ordinary Least Squares (OLS)**, ou **Mínimos Quadrados Ordinários** em português, é um método estatístico usado para estimar os coeficientes de um modelo de regressão linear. A ideia principal do OLS é encontrar a melhor linha reta que descreve a relação entre uma variável dependente (\\( Y \\)) e uma ou mais variáveis independentes (\\( X \\)) minimizando a soma dos **quadrados dos erros** (as diferenças entre os valores observados e os valores previstos pelo modelo).\n",
    "\n",
    "No seu caso, você está usando OLS para calcular o **Beta** da ação **WEGE3** em relação ao índice **Ibovespa (^BVSP)**. Esse Beta representa o quanto a ação tende a variar em resposta às variações do índice.\n",
    "\n",
    "---\n",
    "\n",
    "**O que é \\( R^2 \\) e como interpretá-lo?**\n",
    "\n",
    "O **\\( R^2 \\) (R Quadrado)**, ou **Coeficiente de Determinação**, mede a **proporção da variabilidade da variável dependente (\\( Y \\)) que é explicada pela variável independente (\\( X \\))**.\n",
    "\n",
    "- Ele varia de **0 a 1**:\n",
    "  - **\\( R^2 = 0 \\)** significa que o modelo **não explica nada** da variação de \\( Y \\).\n",
    "  - **\\( R^2 = 1 \\)** significa que o modelo **explica 100%** da variação de \\( Y \\).\n",
    "  - **Valores intermediários** indicam o quanto do comportamento de \\( Y \\) pode ser previsto com base em \\( X \\).\n",
    "\n",
    "**No seu resultado:**\n",
    "- **\\( R^2 = 0.170 \\)** → Isso significa que **apenas 17% da variação diária da ação WEGE3 pode ser explicada pelas variações diárias do Ibovespa**.\n",
    "- Isso indica que, embora exista uma relação entre o Ibovespa e a WEGE3, há outros fatores influenciando essa ação que não estão sendo considerados no modelo.\n",
    "\n",
    "---\n",
    "\n",
    "**Resumo da Interpretação**\n",
    "1. **OLS** é um método de regressão linear que encontra a melhor linha que minimiza os erros entre valores reais e previstos.\n",
    "2. **O Beta de 0.6936** significa que, para cada 1% de variação no Ibovespa, a **WEGE3 tende a variar cerca de 0.69%**.\n",
    "3. **\\( R^2 = 0.17 \\)** significa que apenas **17% da variação diária da WEGE3 pode ser explicada pelo Ibovespa**, sugerindo que existem outros fatores relevantes que impactam essa ação além do índice.\n",
    "\n"
   ]
  },
  {
   "cell_type": "code",
   "execution_count": null,
   "metadata": {},
   "outputs": [],
   "source": [
    "ticker_y = TICKER_ANALISADO\n",
    "\n",
    "# Valores previstos pelo modelo\n",
    "X_values = daily_return['^BVSP']\n",
    "Y_values = daily_return[ticker_y]\n",
    "\n",
    "# Criando o scatter plot\n",
    "plt.figure(figsize=(10,6))\n",
    "sns.regplot(x=X_values, y=Y_values, line_kws={'color':'red'}, scatter_kws={'alpha':0.5})\n",
    "\n",
    "# Títulos e rótulos\n",
    "plt.title(f'Regressão Linear: Retornos Diários de {ticker_y} vs. Ibovespa', fontsize=14)\n",
    "plt.xlabel(\"Retorno Diário do Ibovespa (^BVSP)\", fontsize=12)\n",
    "plt.ylabel(f'Retorno Diário da {ticker_y}', fontsize=12)\n",
    "\n",
    "# Exibir o gráfico\n",
    "plt.show()\n"
   ]
  },
  {
   "cell_type": "markdown",
   "metadata": {},
   "source": [
    "### Como interpretar o gráfico?\n",
    "\n",
    "- **Pontos dispersos**: Representam os retornos diários da **WEGE3** em relação aos retornos do **Ibovespa**.\n",
    "\n",
    "- **Linha vermelha (reta de regressão)**: Mostra a **tendência** da relação entre os retornos da ação e do índice.\n",
    "  - Se a linha estiver **inclinada positivamente** → WEGE3 sobe quando o Ibovespa sobe.\n",
    "  - Se a linha estiver **inclinada negativamente** → WEGE3 cai quando o Ibovespa sobe (o que não é o caso aqui, pois o **Beta é positivo**).\n",
    "\n",
    "- **A dispersão dos pontos em relação à linha**:\n",
    "  - Se os pontos estiverem **muito espalhados**, o modelo não explica bem a relação entre as variáveis (o que é indicado pelo **\\( R^2 \\) baixo, como 0.17 no seu caso**).\n",
    "  - Se os pontos estiverem **mais próximos da linha**, a relação entre o índice e a ação é mais forte.\n",
    "\n",
    "Esse gráfico ajuda a visualizar **como a ação reage às oscilações do Ibovespa** e se existe uma relação linear clara entre eles. 🚀\n"
   ]
  },
  {
   "cell_type": "markdown",
   "metadata": {},
   "source": [
    "## Cálculando o Beta para várias ações"
   ]
  },
  {
   "cell_type": "code",
   "execution_count": null,
   "metadata": {},
   "outputs": [],
   "source": [
    "# Calculamos o Beta usando Ordinary Least Squares\n",
    "\n",
    "Y = daily_return['^BVSP']\n",
    "X = daily_return['^BVSP']\n",
    "X = sm.add_constant(X)\n",
    "\n",
    "models = []\n",
    "\n",
    "for ticker in tickers:\n",
    "    Y = daily_return[ticker]\n",
    "    models.append([str(ticker), sm.OLS(Y, X).fit()])\n",
    "\n",
    "# for model in models:\n",
    "#     print(f'{model[0]}')\n",
    "#     print(f'Beta = {model[1].params.iloc[1]}')\n",
    "#     print(f'R Quadrado = {model[1].rsquared}')\n",
    "\n",
    "# Criar uma lista para armazenar os resultados\n",
    "results_list = []\n",
    "\n",
    "# Preencher a lista com os valores calculados\n",
    "for model in models:\n",
    "    results_list.append({\n",
    "        'Ticker': model[0],\n",
    "        'Beta': model[1].params.iloc[1],\n",
    "        'R Quadrado': model[1].rsquared\n",
    "    })\n",
    "\n",
    "# Converter a lista para DataFrame e concatenar corretamente\n",
    "results_df = pd.concat([pd.DataFrame([row]) for row in results_list], ignore_index=True)\n",
    "\n",
    "\n",
    "results_df"
   ]
  }
 ],
 "metadata": {
  "kernelspec": {
   "display_name": "financial",
   "language": "python",
   "name": "python3"
  },
  "language_info": {
   "codemirror_mode": {
    "name": "ipython",
    "version": 3
   },
   "file_extension": ".py",
   "mimetype": "text/x-python",
   "name": "python",
   "nbconvert_exporter": "python",
   "pygments_lexer": "ipython3",
   "version": "3.13.2"
  }
 },
 "nbformat": 4,
 "nbformat_minor": 2
}
